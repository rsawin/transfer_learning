import tensorflow.keras as keras
import tensorflow as tf

print(tf.__version__)


mnist = tf.keras.datasets.mnist
(x_train, y_train),(x_test, y_test) = mnist.load_data()


print(x_train[0])


import matplotlib.pyplot as plt

plt.imshow(x_train[0],cmap=plt.cm.binary)
plt.show()


print(y_train[0])


print(x_train[0])

plt.imshow(x_train[0],cmap=plt.cm.binary)
plt.show()


model = tf.keras.models.Sequential()
model.add(tf.keras.layers.Flatten())
model.add(tf.keras.layers.Dense(128, activation=tf.nn.relu))
model.add(tf.keras.layers.Dense(128, activation=tf.nn.relu))
model.add(tf.keras.layers.Dense(10, activation=tf.nn.softmax))


# Now we need to "compile" the model. This is where we pass the
settings for actually optimizing/training the model we've defined.

model.compile(optimizer='adam',
              loss='sparse_categorical_crossentropy',
              metrics=['accuracy'])

 
# Now, we fit!

model.fit(x_train, y_train, epochs=3)


val_loss, val_acc = model.evaluate(x_test, y_test)
print(val_loss)
print(val_acc)



# As of Dec 21st 2018, there's a known issue with the code. 
# I am going to paste a snippet that you should use to 
# replace the code with, should you be hitting an error:

import tensorflow as tf  # deep learning library. Tensors are just multi-dimensional arrays
import tensorflow.keras as keras  # High level API that sits on top of tensorflow

# Load and split the mnist dataset into a train and test set
mnist = tf.keras.datasets.mnist  # mnist is a dataset of 28x28 images of handwritten digits and their labels
(x_train, y_train),(x_test, y_test) = mnist.load_data()  # unpacks images to x_train/x_test and labels to y_train/y_test

# Nomalize the nmist dataset images
x_train = tf.keras.utils.normalize(x_train, axis=1)  # scales data between 0 and 1
x_test = tf.keras.utils.normalize(x_test, axis=1)  # scales data between 0 and 1

model = tf.keras.models.Sequential()  # a basic feed-forward model
# we need to take this 28x28 image, and make it a flat 1x784. There are 
# many ways for us to do this, but keras has a Flatten layer built
# just for us, so we'll use that.
model.add(tf.keras.layers.Flatten())  # takes our 28x28 and makes it 1x784
# Next, we want our hidden layers. We're going to go with the simplest neural 
# network layer, which is just a Dense layer. This refers to the fact that 
# it's a densely-connected layer, meaning it's "fully connected," where each 
# node connects to each prior and subsequent node. Just like our image.
model.add(tf.keras.layers.Dense(128, activation=tf.nn.relu))  # a simple fully-connected layer, 128 units, relu activation
# add another identical layer for good measure.
model.add(tf.keras.layers.Dense(128, activation=tf.nn.relu))  # a simple fully-connected layer, 128 units, relu activation
# Now, we're ready for an output layer:
model.add(tf.keras.layers.Dense(10, activation=tf.nn.softmax))  # our output layer. 10 units for 10 classes. Softmax for probability distribution

model.compile(optimizer='adam',  # Good default optimizer to start with
              loss='sparse_categorical_crossentropy',  # how will we calculate our "error." Neural network aims to minimize loss.
              metrics=['accuracy'])  # what to track

model.fit(x_train, y_train, epochs=3)  # train the model

val_loss, val_acc = model.evaluate(x_test, y_test)  # evaluate the out of sample data with model
print(val_loss)  # model's loss (error)
print(val_acc)  # model's accuracy


# It's going to be very likely your accuracy out of sample 
# is a bit worse, same with loss. In fact, it should be a 
# red flag if it's identical, or better.

# Finally, with your model, you can save it super easily:

model.save('epic_num_reader.model')
Load it back:

new_model = tf.keras.models.load_model('epic_num_reader.model')
finally, make predictions!

predictions = new_model.predict(x_test)
print(predictions)


# That sure doesn't start off as helpful, but recall these are 
# probability distributions. We can get the actual number pretty simply:

import numpy as np

print(np.argmax(predictions[0]))

# There's your prediction, let's look at the input:

plt.imshow(x_test[0],cmap=plt.cm.binary)
plt.show()
